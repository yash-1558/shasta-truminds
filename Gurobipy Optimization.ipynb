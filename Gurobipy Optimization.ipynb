{
  "nbformat": 4,
  "nbformat_minor": 0,
  "metadata": {
    "colab": {
      "name": "Optimization.ipynb",
      "provenance": []
    },
    "kernelspec": {
      "name": "python3",
      "display_name": "Python 3"
    },
    "language_info": {
      "name": "python"
    }
  },
  "cells": [
    {
      "cell_type": "markdown",
      "source": [
        "Mathematical programming is a declarative approach where the modeler formulates a mathematical optimization model that captures the key aspects of a complex decision problem. The Gurobi Optimizer solves such models using state-of-the-art mathematics and computer science.\n",
        "\n",
        "A mathematical optimization model has five components, namely:\n",
        "\n",
        "Sets and indices.\n",
        "Parameters.\n",
        "Decision variables.\n",
        "Objective function(s).\n",
        "Constraints.\n",
        "We now present a mixed-integer programming (MIP) formulation for the Cell Tower Coverage Problem."
      ],
      "metadata": {
        "id": "ABZBfyPUhlt6"
      }
    },
    {
      "cell_type": "markdown",
      "source": [
        "## Model Formulation\n",
        "\n",
        "### Sets and Indices\n",
        "\n",
        "$i \\in T$: Index and set of potential sites to build a tower.\n",
        "\n",
        "$j \\in R$: Index and set of regions.\n",
        "\n",
        "$G(T,R,E)$: A bipartite graph defined over the set $T$ of potential sites to build a tower,  the set of regions $R$ that we want to cover, and $E$ is the set of edges, where we have an edge $(i,j) \\in E$ if region $j \\in R$ can be covered by a tower on location $i \\in T$.\n",
        "\n",
        "### Parameters\n",
        "\n",
        "$c_{i} \\in \\mathbb{R}^+$: The cost of setting up a tower at site $i$.\n",
        "\n",
        "$p_{j} \\in \\mathbb{N}$: The population at region $j$.\n",
        "\n",
        "### Decision Variables\n",
        "\n",
        "$covered_{j} \\in \\{0, 1 \\}$: This variable is equal to 1 if region $j$ is covered; and 0 otherwise.\n",
        "\n",
        "$build_{i} \\in \\{0, 1 \\}$: This variable is equal to 1 if tower $i$ is built; and 0 otherwise.\n",
        "\n",
        "### Objective Function(s)\n",
        "\n",
        "- **Population covered**. We seek to maximize the total population covered by the towers.\n",
        "\n",
        "\\begin{equation}\n",
        "\\text{Max} \\quad Z = \\sum_{j \\in R} p_{j} \\cdot covered_{j}\n",
        "\\tag{0}\n",
        "\\end{equation}\n",
        "\n",
        "### Constraints\n",
        "\n",
        "- **Coverage**. For each region $j \\in R$ ensure that at least one tower that covers a region must be selected.\n",
        "\n",
        "\\begin{equation}\n",
        "\\sum_{(i,j) \\in E} build_{i} \\geq covered_{j} \\quad \\forall j \\in R\n",
        "\\tag{1}\n",
        "\\end{equation}\n",
        "\n",
        "- **Budget**. We need to ensure that the total cost of building towers do not exceed the allocated budget.\n",
        "\n",
        "\\begin{equation}\n",
        "\\sum_{i \\in T} c_{i} \\cdot build_{i} \\leq \\text{budget}\n",
        "\\tag{2}\n",
        "\\end{equation}"
      ],
      "metadata": {
        "id": "aL6m2QQih1et"
      }
    },
    {
      "cell_type": "code",
      "source": [
        "%pip install gurobipy"
      ],
      "metadata": {
        "colab": {
          "base_uri": "https://localhost:8080/"
        },
        "id": "WZnd_Ck9iAez",
        "outputId": "51d87134-0904-4bb6-da7d-29908f17bdab"
      },
      "execution_count": 2,
      "outputs": [
        {
          "output_type": "stream",
          "name": "stdout",
          "text": [
            "Looking in indexes: https://pypi.org/simple, https://us-python.pkg.dev/colab-wheels/public/simple/\n",
            "Collecting gurobipy\n",
            "  Downloading gurobipy-9.5.2-cp37-cp37m-manylinux2014_x86_64.whl (11.5 MB)\n",
            "\u001b[K     |████████████████████████████████| 11.5 MB 5.1 MB/s \n",
            "\u001b[?25hInstalling collected packages: gurobipy\n",
            "Successfully installed gurobipy-9.5.2\n"
          ]
        }
      ]
    },
    {
      "cell_type": "code",
      "source": [
        "import gurobipy as gp\n",
        "from gurobipy import GRB\n",
        "\n",
        "# tested with Gurobi v9.0.0 and Python 3.7.0\n",
        "\n",
        "# Parameters\n",
        "budget = 20\n",
        "regions, population = gp.multidict({\n",
        "    0: 523, 1: 690, 2: 420,\n",
        "    3: 1010, 4: 1200, 5: 850,\n",
        "    6: 400, 7: 1008, 8: 950\n",
        "})\n",
        "\n",
        "sites, coverage, cost = gp.multidict({\n",
        "    0: [{0,1,5}, 4.2],\n",
        "    1: [{0,7,8}, 6.1],\n",
        "    2: [{2,3,4,6}, 5.2],\n",
        "    3: [{2,5,6}, 5.5],\n",
        "    4: [{0,2,6,7,8}, 4.8],\n",
        "    5: [{3,4,8}, 9.2]\n",
        "})"
      ],
      "metadata": {
        "id": "8d2vC2ZKh7wI"
      },
      "execution_count": 3,
      "outputs": []
    },
    {
      "cell_type": "markdown",
      "source": [
        "### Model Deployment\n",
        "\n",
        "We now determine the model for the Cell Tower Coverage Problem, by defining the decision variables, constraints, and objective function. Next, we start the optimization process and Gurobi finds the plan to build towers that maximizes  the coverage of the population given the budget allocated."
      ],
      "metadata": {
        "id": "S1UWkfftiKkA"
      }
    },
    {
      "cell_type": "code",
      "source": [
        "# MIP  model formulation\n",
        "m = gp.Model(\"cell_tower\")\n",
        "\n",
        "build = m.addVars(len(sites), vtype=GRB.BINARY, name=\"Build\")\n",
        "is_covered = m.addVars(len(regions), vtype=GRB.BINARY, name=\"Is_covered\")\n",
        "\n",
        "m.addConstrs((gp.quicksum(build[t] for t in sites if r in coverage[t]) >= is_covered[r]\n",
        "                        for r in regions), name=\"Build2cover\")\n",
        "m.addConstr(build.prod(cost) <= budget, name=\"budget\")\n",
        "\n",
        "m.setObjective(is_covered.prod(population), GRB.MAXIMIZE)\n",
        "\n",
        "m.optimize() "
      ],
      "metadata": {
        "colab": {
          "base_uri": "https://localhost:8080/"
        },
        "id": "1hi_0UdkiLpd",
        "outputId": "60a74d78-2623-4835-e611-ae869b85678d"
      },
      "execution_count": 4,
      "outputs": [
        {
          "output_type": "stream",
          "name": "stdout",
          "text": [
            "Restricted license - for non-production use only - expires 2023-10-25\n",
            "Gurobi Optimizer version 9.5.2 build v9.5.2rc0 (linux64)\n",
            "Thread count: 1 physical cores, 2 logical processors, using up to 2 threads\n",
            "Optimize a model with 10 rows, 15 columns and 36 nonzeros\n",
            "Model fingerprint: 0xf0a21eec\n",
            "Variable types: 0 continuous, 15 integer (15 binary)\n",
            "Coefficient statistics:\n",
            "  Matrix range     [1e+00, 9e+00]\n",
            "  Objective range  [4e+02, 1e+03]\n",
            "  Bounds range     [1e+00, 1e+00]\n",
            "  RHS range        [2e+01, 2e+01]\n",
            "Found heuristic solution: objective -0.0000000\n",
            "Presolve removed 4 rows and 5 columns\n",
            "Presolve time: 0.00s\n",
            "Presolved: 6 rows, 10 columns, 21 nonzeros\n",
            "Variable types: 0 continuous, 10 integer (10 binary)\n",
            "Found heuristic solution: objective 7051.0000000\n",
            "\n",
            "Explored 0 nodes (0 simplex iterations) in 0.02 seconds (0.00 work units)\n",
            "Thread count was 2 (of 2 available processors)\n",
            "\n",
            "Solution count 2: 7051 -0 \n",
            "\n",
            "Optimal solution found (tolerance 1.00e-04)\n",
            "Best objective 7.051000000000e+03, best bound 7.051000000000e+03, gap 0.0000%\n"
          ]
        }
      ]
    },
    {
      "cell_type": "markdown",
      "source": [
        "## Analysis\n",
        "The result of the optimization model shows that the maximum population that can be covered with the $\\$20,000,000$ budget is 7,051 people. Let's see the solution that achieves that optimal result.\n",
        "\n",
        "### Cell Tower Build Plan\n",
        "\n",
        "This plan determines at which site locations to build a cell tower."
      ],
      "metadata": {
        "id": "q5fQ1dhDn6S7"
      }
    },
    {
      "cell_type": "code",
      "source": [
        "# display optimal values of decision variables\n",
        "\n",
        "for tower in build.keys():\n",
        "    if (abs(build[tower].x) > 1e-6):\n",
        "        print(f\"\\n Build a cell tower at location Tower {tower}.\")"
      ],
      "metadata": {
        "colab": {
          "base_uri": "https://localhost:8080/"
        },
        "id": "PtyeN2HWoBep",
        "outputId": "dcf17f33-09b0-4832-bc9b-ac0ceece1e2d"
      },
      "execution_count": 5,
      "outputs": [
        {
          "output_type": "stream",
          "name": "stdout",
          "text": [
            "\n",
            " Build a cell tower at location Tower 0.\n",
            "\n",
            " Build a cell tower at location Tower 2.\n",
            "\n",
            " Build a cell tower at location Tower 4.\n"
          ]
        }
      ]
    },
    {
      "cell_type": "markdown",
      "source": [
        "### Demand Fulfillment Metrics\n",
        "\n",
        "- **Coverage**: Percentage of the population covered by the cell towers built."
      ],
      "metadata": {
        "id": "NcsWDLPxoMov"
      }
    },
    {
      "cell_type": "code",
      "source": [
        "# Percentage of the population covered by the cell towers built is computed as follows.\n",
        "\n",
        "total_population = 0\n",
        "\n",
        "for region in range(len(regions)):\n",
        "    total_population += population[region]\n",
        "\n",
        "coverage = round(100*m.objVal/total_population, 2)\n",
        "\n",
        "print(f\"\\n The population coverage associated to the cell towers build plan is: {coverage} %\")"
      ],
      "metadata": {
        "colab": {
          "base_uri": "https://localhost:8080/"
        },
        "id": "WYcujg5SoOTe",
        "outputId": "f99eb97d-c8d8-4297-f019-16a19e823cfa"
      },
      "execution_count": 6,
      "outputs": [
        {
          "output_type": "stream",
          "name": "stdout",
          "text": [
            "\n",
            " The population coverage associated to the cell towers build plan is: 100.0 %\n"
          ]
        }
      ]
    },
    {
      "cell_type": "markdown",
      "source": [
        "### Resources Utilization Metrics\n",
        "\n",
        "- **Budget consumption**: Percentage of the budget allocated to build the cell towers."
      ],
      "metadata": {
        "id": "UUWSJ8gzoYO2"
      }
    },
    {
      "cell_type": "code",
      "source": [
        "# Percentage of budget consumed to build cell towers\n",
        "\n",
        "total_cost = 0\n",
        "\n",
        "for tower in range(len(sites)):\n",
        "    if (abs(build[tower].x) > 0.5):\n",
        "        total_cost += cost[tower]*int(build[tower].x)\n",
        "\n",
        "budget_consumption = round(100*total_cost/budget, 2)\n",
        "\n",
        "print(f\"\\n The percentage of budget consumed associated to the cell towers build plan is: {budget_consumption} %\")"
      ],
      "metadata": {
        "colab": {
          "base_uri": "https://localhost:8080/"
        },
        "id": "RKWbk6P5oZ5Z",
        "outputId": "070c7565-e3e5-45ec-d9d1-3b41bfc5f001"
      },
      "execution_count": 7,
      "outputs": [
        {
          "output_type": "stream",
          "name": "stdout",
          "text": [
            "\n",
            " The percentage of budget consumed associated to the cell towers build plan is: 71.0 %\n"
          ]
        }
      ]
    }
  ]
}
